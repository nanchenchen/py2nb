{
 "cells": [
  {
   "cell_type": "raw",
   "metadata": {},
   "source": [
    "<script>\n",
    "jQuery(document).ready(function($) {\n",
    "\n",
    "$(window).load(function(){\n",
    "$('#preloader').fadeOut('slow',function(){$(this).remove();});\n",
    "});\n",
    "\n",
    "});\n",
    "</script>\n",
    "\n",
    "<style type=\"text/css\">\n",
    "div#preloader { position: fixed;\n",
    "left: 0;\n",
    "top: 0;\n",
    "z-index: 999;\n",
    "width: 100%;\n",
    "height: 100%;\n",
    "overflow: visible;\n",
    "background: #fff url('http://preloaders.net/preloaders/720/Moving%20line.gif') no-repeat center center;\n",
    "}\n",
    "\n",
    "</style>\n",
    "\n",
    "<div id=\"preloader\"></div>"
   ]
  },
  {
   "cell_type": "raw",
   "metadata": {},
   "source": [
    "<script>\n",
    "function code_toggle() {\n",
    "if (code_shown){\n",
    "$('div.input').hide('500');\n",
    "$('#toggleButton').val('Show Code')\n",
    "} else {\n",
    "$('div.input').show('500');\n",
    "$('#toggleButton').val('Hide Code')\n",
    "}\n",
    "code_shown = !code_shown\n",
    "}\n",
    "\n",
    "$( document ).ready(function(){\n",
    "code_shown=false;\n",
    "$('div.input').hide()\n",
    "});\n",
    "</script>\n",
    "<form action=\"javascript:code_toggle()\"><input type=\"submit\" id=\"toggleButton\" value=\"Show Code\">\n",
    "</form>"
   ]
  },
  {
   "cell_type": "raw",
   "metadata": {},
   "source": [
    "<style type=\"text/css\">\n",
    "p.tightontop {\n",
    "  margin-top: 0px;\n",
    "  padding-top: 0px;\n",
    "  width: 100%;\n",
    "}\n",
    "\n",
    "img.rescale {\n",
    "  width: 100%;\n",
    "  height: auto;\n",
    "}\n",
    "</style>\n",
    "\n",
    "<div class=\"page-header tightontop\">\n",
    "<div class=\"row tightontop\">\n",
    "  <div class=\"col-sm-12 col-md-12 col-lg-12\">\n",
    "  <img class=\"img-responsive rescale\" src=\"img/masthead.jpg\" alt=\"masthead\"></img>\n",
    "  </div> <!-- /col-sm-12 -->\n",
    "</div> <!-- /row -->\n",
    "<div class=\"row\">\n",
    "  <div class=\"col-sm-4 col-md-4 col-lg-4\">\n",
    "  <p class=\"text-left tightontop\">\n",
    "  John Smith, Analyst\n",
    "  </p>\n",
    "  </div> <!-- /col-sm-4 -->\n",
    "  <div class=\"col-sm-4 col-md-4 col-lg-4\">\n",
    "  <p class=\"text-center tightontop\">\n",
    "  Example, Inc.\n",
    "  </p>\n",
    "  </div> <!-- /col-sm-? -->\n",
    "  <div class=\"col-sm-4 col-md-4 col-lg-4\">\n",
    "  <p class=\"text-right tightontop\">\n",
    "  MMMMMM DD, YYYY\n",
    "  </p>\n",
    "  </div> <!-- /col-sm-4 -->\n",
    "</div> <!-- /row -->\n",
    "</div> <!-- /page-header -->"
   ]
  },
  {
   "cell_type": "markdown",
   "metadata": {},
   "source": [
    "# Sample Script/Notebook"
   ]
  },
  {
   "cell_type": "code",
   "execution_count": null,
   "metadata": {
    "collapsed": false
   },
   "outputs": [],
   "source": [
    "# from __future__ imports must come at the beginning of the file\n",
    "from __future__ import absolute_import, print_function, division"
   ]
  },
  {
   "cell_type": "markdown",
   "metadata": {},
   "source": [
    "Triple-quoted comments like this one are converted to\n",
    "[Markdown](https://daringfireball.net/projects/markdown/) cells,\n",
    "which support basic typography when the _Jupyter notebook_ is rendered. You\n",
    "can create lists:\n",
    "1. like\n",
    "1. this\n",
    "1. one."
   ]
  },
  {
   "cell_type": "code",
   "execution_count": null,
   "metadata": {
    "collapsed": false
   },
   "outputs": [],
   "source": [
    "import os"
   ]
  },
  {
   "cell_type": "markdown",
   "metadata": {},
   "source": [
    "## A `Hello, World` Function"
   ]
  },
  {
   "cell_type": "markdown",
   "metadata": {},
   "source": [
    "This is a *hello, world* function."
   ]
  },
  {
   "cell_type": "code",
   "execution_count": null,
   "metadata": {
    "collapsed": false
   },
   "outputs": [],
   "source": [
    "def hello(who='World'):\n",
    "    \"\"\" This is a docstring.\n",
    "    \"\"\"\n",
    "    return \"Hello, \" + who"
   ]
  },
  {
   "cell_type": "markdown",
   "metadata": {},
   "source": [
    "I have added some helper functions to round out the conventional structure of\n",
    "a Python script. This example is trivial, making the helper functions seem\n",
    "pedantic."
   ]
  },
  {
   "cell_type": "code",
   "execution_count": null,
   "metadata": {
    "collapsed": false
   },
   "outputs": [],
   "source": [
    "def main():\n",
    "    return hello()"
   ]
  },
  {
   "cell_type": "code",
   "execution_count": null,
   "metadata": {
    "collapsed": false
   },
   "outputs": [],
   "source": [
    "if __name__ == '__main__':\n",
    "    print(main())"
   ]
  },
  {
   "cell_type": "markdown",
   "metadata": {},
   "source": [
    "With the [Python\n",
    "Markdown](http://jupyter-contrib-nbextensions.readthedocs.io/en/latest/nbextensions/python-markdown/readme.html)\n",
    "extension enabled, the combination of VSCode, the Jupyter extension for Code,\n",
    "and the Jupyter Notebook stack amount to a literate programming\n",
    "environment for Python. For example, you can write expressions like\n",
    "`hello('Jim')` in Markdown cells and the notebook will resolve them within the\n",
    "Python REPL: {{hello('Jim')}}.\n",
    "\n",
    "Using the Python Markdown extension in this manner comes with two gotchas:\n",
    "1. If you want the Python expressions within your Markdown cells to be resolved\n",
    "in, say, the HTML version of your notebook, you must execute and save the\n",
    "notebook file (`*.ipynb`) before using `nbconvert` to transform the notebook.\n",
    "1. You must *trust* the notebook (i.e., by clicking `File` -> `Trust Notebook`\n",
    "within the notebook interface) before the Python Markdown extension will be\n",
    "able to resolve Python expressions within your Markdown cells."
   ]
  }
 ],
 "metadata": {},
 "nbformat": 4,
 "nbformat_minor": 2
}
